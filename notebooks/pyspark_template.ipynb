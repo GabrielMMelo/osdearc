{
 "cells": [
  {
   "cell_type": "code",
   "execution_count": null,
   "id": "6ba0e477",
   "metadata": {},
   "outputs": [],
   "source": [
    "from pyspark import SparkContext\n",
    "from pyspark.sql import SparkSession"
   ]
  },
  {
   "cell_type": "code",
   "execution_count": null,
   "id": "d54f7697",
   "metadata": {},
   "outputs": [],
   "source": [
    "spark = SparkSession.builder \\\n",
    "    .appName(\"DevPySpark\") \\\n",
    "    .master(\"spark://host.docker.internal:7077\") \\\n",
    "    #.config(\"spark.jars.packages\", \"org.apache.hadoop:hadoop-aws:3.2.0,com.amazonaws:aws-java-sdk-bundle:.11.980,org.apache.httpcomponents:httpclient:4.5.3,joda-time:joda-time:2.9.9,io.delta:delta-core_2.12:1.0.0\") \\\n",
    "    .config(\"spark.worker.cleanup.enabled\", \"true\") \\\n",
    "    .config(\"spark.hadoop.fs.s3a.access.key\", \"<LAKEHOUSE_ACCESS_KEY>\") \\\n",
    "    .config(\"spark.hadoop.fs.s3a.secret.key\", \"<LAKEHOUSE_SECRET_KEY>\") \\\n",
    "    .config(\"spark.hadoop.fs.s3a.impl\", \"org.apache.hadoop.fs.s3a.S3AFileSystem\") \\\n",
    "    .config(\"spark.hadoop.fs.s3a.endpoint\", \"<LAKEHOUSE_ENDPOINT>\") \\\n",
    "    .config(\"spark.hadoop.fs.s3a.path.style.access\", \"true\") \\\n",
    "    .config(\"spark.sql.extensions\", \"io.delta.sql.DeltaSparkSessionExtension\") \\\n",
    "    .config(\"spark.sql.catalog.spark_catalog\", \"org.apache.spark.sql.delta.catalog.DeltaCatalog\") \\\n",
    "    .getOrCreate()"
   ]
  },
  {
   "cell_type": "code",
   "execution_count": null,
   "id": "5f2139f0",
   "metadata": {},
   "outputs": [],
   "source": [
    "df = spark.read.format(\"parquet\").load(\"s3a://lake/dev/02_trusted/test/\")"
   ]
  },
  {
   "cell_type": "code",
   "execution_count": null,
   "id": "951399db-e082-40e4-a2e1-59d20ac8a091",
   "metadata": {},
   "outputs": [],
   "source": [
    "df"
   ]
  }
 ],
 "metadata": {
  "kernelspec": {
   "display_name": "Python 3 (ipykernel)",
   "language": "python",
   "name": "python3"
  },
  "language_info": {
   "codemirror_mode": {
    "name": "ipython",
    "version": 3
   },
   "file_extension": ".py",
   "mimetype": "text/x-python",
   "name": "python",
   "nbconvert_exporter": "python",
   "pygments_lexer": "ipython3",
   "version": "3.9.6"
  }
 },
 "nbformat": 4,
 "nbformat_minor": 5
}
